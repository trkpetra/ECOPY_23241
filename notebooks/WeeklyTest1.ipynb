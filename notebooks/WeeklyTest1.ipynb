{
 "cells": [
  {
   "cell_type": "markdown",
   "source": [
    "##### A feladatok megoldását mentse src/weekly modul-ba a weekly_test_1.py nevű fájlba\n",
    "###### A fájlba kommentként írd be a Neptun kódodat"
   ],
   "metadata": {
    "collapsed": false
   },
   "id": "a8cbfcd702b3de5"
  },
  {
   "cell_type": "code",
   "execution_count": null,
   "outputs": [],
   "source": [
    "#F0D5F1"
   ],
   "metadata": {
    "collapsed": false
   },
   "id": "7570820639b84ca8"
  },
  {
   "cell_type": "code",
   "execution_count": null,
   "outputs": [],
   "source": [
    "# 1., Írjon egy függvényt ami vissza adja a bemeneti lista páros elemeit\n",
    "# függvény név: evens_from_list\n",
    "# bemeneti paraméterek: input_list \n",
    "# kimeneti típus: List "
   ],
   "metadata": {
    "collapsed": false
   },
   "id": "7675f2ea543b3407"
  },
  {
   "cell_type": "code",
   "execution_count": 69,
   "outputs": [],
   "source": [
    "def events_from_list(input_list):\n",
    "    return [num for num in input_list if num % 2 == 0]"
   ],
   "metadata": {
    "collapsed": false,
    "ExecuteTime": {
     "end_time": "2023-09-20T17:56:13.850648100Z",
     "start_time": "2023-09-20T17:56:13.839638Z"
    }
   },
   "id": "249bcda88ef6bb9a"
  },
  {
   "cell_type": "code",
   "execution_count": 70,
   "outputs": [
    {
     "data": {
      "text/plain": "[2, 4, 6, 8, 10]"
     },
     "execution_count": 70,
     "metadata": {},
     "output_type": "execute_result"
    }
   ],
   "source": [],
   "metadata": {
    "collapsed": false,
    "ExecuteTime": {
     "end_time": "2023-09-20T17:56:18.439788600Z",
     "start_time": "2023-09-20T17:56:18.343523400Z"
    }
   },
   "id": "d7595a49d9eb729f"
  },
  {
   "cell_type": "code",
   "execution_count": null,
   "outputs": [],
   "source": [
    "# 2., Írjon egy függvényt ami megvizsgálja, hogy a listában minden elem páratlan-e\n",
    "# függvény név: every_element_is_odd\n",
    "# bemeneti paraméterek: input_list \n",
    "# kimeneti típus: bool "
   ],
   "metadata": {
    "collapsed": false
   },
   "id": "initial_id"
  },
  {
   "cell_type": "code",
   "execution_count": 29,
   "outputs": [],
   "source": [
    "def every_element_is_odd(input_list):\n",
    "    if len([num for num in input_list if num % 2 != 0]) == len(input_list): return True\n",
    "    else:\n",
    "        return False"
   ],
   "metadata": {
    "collapsed": false,
    "ExecuteTime": {
     "end_time": "2023-09-20T17:35:11.823826800Z",
     "start_time": "2023-09-20T17:35:11.797632500Z"
    }
   },
   "id": "f403d1a38951a2e5"
  },
  {
   "cell_type": "code",
   "execution_count": 30,
   "outputs": [
    {
     "data": {
      "text/plain": "False"
     },
     "execution_count": 30,
     "metadata": {},
     "output_type": "execute_result"
    }
   ],
   "source": [],
   "metadata": {
    "collapsed": false,
    "ExecuteTime": {
     "end_time": "2023-09-20T17:35:16.315667700Z",
     "start_time": "2023-09-20T17:35:16.279586100Z"
    }
   },
   "id": "32de36b5b20054fd"
  },
  {
   "cell_type": "code",
   "execution_count": null,
   "outputs": [],
   "source": [
    "# 3., Írjon egy függvényt ami visszaadja a k. legnagyobb elemet listában \n",
    "# függvény név: kth_largest_in_list\n",
    "# bemeneti paraméterek: input_list, kth_largest\n",
    "# kimeneti típus: int "
   ],
   "metadata": {
    "collapsed": false
   },
   "id": "884e2710a259cb85"
  },
  {
   "cell_type": "code",
   "execution_count": 26,
   "outputs": [],
   "source": [
    "def kth_largest_in_list(input_list, kth_largest):\n",
    "    list2 = list(set(input_list))\n",
    "    list2.sort()\n",
    "    return (list2[-kth_largest])"
   ],
   "metadata": {
    "collapsed": false,
    "ExecuteTime": {
     "end_time": "2023-09-20T17:34:50.880269600Z",
     "start_time": "2023-09-20T17:34:50.850638400Z"
    }
   },
   "id": "af9f705a9b8115f"
  },
  {
   "cell_type": "code",
   "execution_count": 73,
   "outputs": [
    {
     "data": {
      "text/plain": "10"
     },
     "execution_count": 73,
     "metadata": {},
     "output_type": "execute_result"
    }
   ],
   "source": [],
   "metadata": {
    "collapsed": false,
    "ExecuteTime": {
     "end_time": "2023-09-20T17:57:55.630029500Z",
     "start_time": "2023-09-20T17:57:55.485485100Z"
    }
   },
   "id": "5a4c2a396921bf8d"
  },
  {
   "cell_type": "code",
   "execution_count": null,
   "outputs": [],
   "source": [
    "# 4., Írjon egy függvényt ami kiszámítja a lista elemek gördülő átlagát\n",
    "# függvény név: cumavg_list\n",
    "# bemeneti paraméterek: input_list \n",
    "# kimeneti típus: List "
   ],
   "metadata": {
    "collapsed": false
   },
   "id": "8021cc1853d79c8"
  },
  {
   "cell_type": "code",
   "execution_count": 24,
   "outputs": [],
   "source": [
    "def cumavg_list(input_list):\n",
    "    cum_sum = 0\n",
    "    res = []\n",
    "    for index, value in enumerate(input_list, start=1):\n",
    "        cum_sum += value\n",
    "        cum_avg = cum_sum / index\n",
    "        res.append(cum_avg)\n",
    "    return res"
   ],
   "metadata": {
    "collapsed": false,
    "ExecuteTime": {
     "end_time": "2023-09-20T17:34:27.364627100Z",
     "start_time": "2023-09-20T17:34:27.332872200Z"
    }
   },
   "id": "1b934675038ee3d3"
  },
  {
   "cell_type": "code",
   "execution_count": 25,
   "outputs": [
    {
     "data": {
      "text/plain": "[1.0, 1.5, 2.0, 2.5, 3.0]"
     },
     "execution_count": 25,
     "metadata": {},
     "output_type": "execute_result"
    }
   ],
   "source": [],
   "metadata": {
    "collapsed": false,
    "ExecuteTime": {
     "end_time": "2023-09-20T17:34:28.869526800Z",
     "start_time": "2023-09-20T17:34:28.789795900Z"
    }
   },
   "id": "185383fff68901dc"
  },
  {
   "cell_type": "code",
   "execution_count": null,
   "outputs": [],
   "source": [
    "# 5., Írjon egy függvényt ami kiszámítja 2 lista elemenként vett szorzatát\n",
    "# függvény név: element_wise_multiplication\n",
    "# bemeneti paraméterek: input_list1, input_list2 \n",
    "# kimeneti típus: List "
   ],
   "metadata": {
    "collapsed": false
   },
   "id": "323feea145ed36b4"
  },
  {
   "cell_type": "code",
   "execution_count": 21,
   "outputs": [
    {
     "data": {
      "text/plain": "[1, 4, 9]"
     },
     "execution_count": 21,
     "metadata": {},
     "output_type": "execute_result"
    }
   ],
   "source": [
    "def element_wise_multiplication(input_list1, input_list2):\n",
    "    res = [a * b for a, b in zip(input_list1, input_list2)]\n",
    "    return res"
   ],
   "metadata": {
    "collapsed": false,
    "ExecuteTime": {
     "end_time": "2023-09-20T17:31:16.946515600Z",
     "start_time": "2023-09-20T17:31:16.868232300Z"
    }
   },
   "id": "ce2d7d79deff3706"
  },
  {
   "cell_type": "code",
   "execution_count": null,
   "outputs": [],
   "source": [],
   "metadata": {
    "collapsed": false
   },
   "id": "6674291fd3503469"
  },
  {
   "cell_type": "code",
   "execution_count": null,
   "outputs": [],
   "source": [
    "# 6., Írjon egy függvényt amely összekapcsol n listát 1 listába\n",
    "# függvény név: merge_lists\n",
    "# bemeneti paraméterek: *lists\n",
    "# kimeneti típus: List "
   ],
   "metadata": {
    "collapsed": false
   },
   "id": "d1dc000ed96cff44"
  },
  {
   "cell_type": "code",
   "execution_count": 76,
   "outputs": [
    {
     "data": {
      "text/plain": "[(1, 2, 3, 4, 5, 6, 7, 8, 9, 10, 1, 2, 3, 1, 2, 3)]"
     },
     "execution_count": 76,
     "metadata": {},
     "output_type": "execute_result"
    }
   ],
   "source": [
    "def merge_lists(*lists):\n",
    "    merged = []\n",
    "    for i in lists:\n",
    "        merged.extend(i)\n",
    "    return merged"
   ],
   "metadata": {
    "collapsed": false,
    "ExecuteTime": {
     "end_time": "2023-09-20T18:01:23.383262300Z",
     "start_time": "2023-09-20T18:01:23.250813300Z"
    }
   },
   "id": "c4af23267ba36eec"
  },
  {
   "cell_type": "code",
   "execution_count": 75,
   "outputs": [
    {
     "data": {
      "text/plain": "[1, 2, 3, 4, 5, 6, 7, 8, 9, 10, 1, 2, 3, 1, 2, 3]"
     },
     "execution_count": 75,
     "metadata": {},
     "output_type": "execute_result"
    }
   ],
   "source": [],
   "metadata": {
    "collapsed": false,
    "ExecuteTime": {
     "end_time": "2023-09-20T18:01:07.485726900Z",
     "start_time": "2023-09-20T18:01:07.401784800Z"
    }
   },
   "id": "f1480710f296f984"
  },
  {
   "cell_type": "code",
   "execution_count": null,
   "outputs": [],
   "source": [
    "# 7., Írjon egy függvényt amely visszaadja a lista páratlan elemeinek a négyzetét\n",
    "# függvény név: squared_odds\n",
    "# bemeneti paraméterek: input_list\n",
    "# kimeneti típus: List "
   ],
   "metadata": {
    "collapsed": false
   },
   "id": "2841a2374dec25f5"
  },
  {
   "cell_type": "code",
   "execution_count": 38,
   "outputs": [],
   "source": [
    "def squared_odds(input_list):\n",
    "    odds = [num for num in input_list if num % 2 != 0]\n",
    "    res = [x ** 2 for x in odds]\n",
    "    return res"
   ],
   "metadata": {
    "collapsed": false,
    "ExecuteTime": {
     "end_time": "2023-09-20T17:37:30.298607300Z",
     "start_time": "2023-09-20T17:37:30.256379100Z"
    }
   },
   "id": "96beb0cb1de4283d"
  },
  {
   "cell_type": "code",
   "execution_count": 39,
   "outputs": [
    {
     "data": {
      "text/plain": "[1, 9, 25]"
     },
     "execution_count": 39,
     "metadata": {},
     "output_type": "execute_result"
    }
   ],
   "source": [],
   "metadata": {
    "collapsed": false,
    "ExecuteTime": {
     "end_time": "2023-09-20T17:37:32.099154700Z",
     "start_time": "2023-09-20T17:37:31.993935200Z"
    }
   },
   "id": "23caa98600146465"
  },
  {
   "cell_type": "code",
   "execution_count": null,
   "outputs": [],
   "source": [
    "# 8., Írjon egy függvényt amely a fordítottan sorba rendezi a kulcs-érték párokat a kulcs értéke szerint egy dictionary-ben\n",
    "# függvény név: reverse_sort_by_key\n",
    "# bemeneti paraméterek: input_dict\n",
    "# kimeneti típus: Dict "
   ],
   "metadata": {
    "collapsed": false
   },
   "id": "12e757ffc972f77a"
  },
  {
   "cell_type": "code",
   "execution_count": 43,
   "outputs": [],
   "source": [
    "def reverse_sort_by_key(input_dict):\n",
    "    keys = list(input_dict.keys())\n",
    "    keys.sort(reverse = True)\n",
    "    sorted_dict = {i:input_dict[i] for i in keys}\n",
    "    return sorted_dict"
   ],
   "metadata": {
    "collapsed": false,
    "ExecuteTime": {
     "end_time": "2023-09-20T17:42:20.016465100Z",
     "start_time": "2023-09-20T17:42:19.912732800Z"
    }
   },
   "id": "e9a710de823bd229"
  },
  {
   "cell_type": "code",
   "execution_count": 44,
   "outputs": [
    {
     "data": {
      "text/plain": "{'c': [4, 5], 'b': [1, 2, 3], 'a': 1}"
     },
     "execution_count": 44,
     "metadata": {},
     "output_type": "execute_result"
    }
   ],
   "source": [],
   "metadata": {
    "collapsed": false,
    "ExecuteTime": {
     "end_time": "2023-09-20T17:42:21.336832300Z",
     "start_time": "2023-09-20T17:42:21.241844100Z"
    }
   },
   "id": "e566b85e382d428d"
  },
  {
   "cell_type": "code",
   "execution_count": null,
   "outputs": [],
   "source": [
    "# 9., Írjon egy függvényt amely a bemeneti, pozitív egész számokat tartalmazó listát kiválogatja 2-vel, 5-el, 2-vel és 5-el, és egyikkel sem osztható számokat, és visszaad egy olyan dictionary-t, amelyben a kulcsok a 'by_two', 'by_five', 'by_two_and_five', és a 'by_none', az értékek, pedig a listák. (2 pont)\n",
    "# függvény név: sort_list_by_divisibility\n",
    "# bemeneti paraméterek: input_list\n",
    "# kimeneti típus: Dict "
   ],
   "metadata": {
    "collapsed": false
   },
   "id": "58dc0ff752928e36"
  },
  {
   "cell_type": "code",
   "execution_count": 67,
   "outputs": [],
   "source": [
    "def sort_list_by_divisibility(input_list):\n",
    "    res = {\n",
    "        \"by_two\": [i for i in input_list if i % 2 == 0],\n",
    "        \"by_five\": [i for i in input_list if i % 5 == 0],\n",
    "        \"by_two_and_five\": [i for i in input_list if i % 2 == 0 and i % 5 == 0],\n",
    "        \"by_none\": [i for i in input_list if i % 2 == 1 and i % 5 != 0 ]\n",
    "    }\n",
    "    return res"
   ],
   "metadata": {
    "collapsed": false,
    "ExecuteTime": {
     "end_time": "2023-09-20T17:53:42.050391600Z",
     "start_time": "2023-09-20T17:53:42.003091300Z"
    }
   },
   "id": "d62344d106bd25ab"
  },
  {
   "cell_type": "code",
   "execution_count": 68,
   "outputs": [
    {
     "data": {
      "text/plain": "{'by_two': [2, 4, 6, 8, 10],\n 'by_five': [5, 10],\n 'by_two_and_five': [10],\n 'by_none': [1, 3, 7, 9]}"
     },
     "execution_count": 68,
     "metadata": {},
     "output_type": "execute_result"
    }
   ],
   "source": [],
   "metadata": {
    "collapsed": false,
    "ExecuteTime": {
     "end_time": "2023-09-20T17:53:43.464808100Z",
     "start_time": "2023-09-20T17:53:43.400041600Z"
    }
   },
   "id": "4dc12112d99a1b81"
  },
  {
   "cell_type": "code",
   "execution_count": null,
   "outputs": [],
   "source": [],
   "metadata": {
    "collapsed": false
   },
   "id": "157ca581056654f7"
  },
  {
   "cell_type": "markdown",
   "source": [],
   "metadata": {
    "collapsed": false
   },
   "id": "c0cd37813169932a"
  }
 ],
 "metadata": {
  "kernelspec": {
   "display_name": "Python 3",
   "language": "python",
   "name": "python3"
  },
  "language_info": {
   "codemirror_mode": {
    "name": "ipython",
    "version": 2
   },
   "file_extension": ".py",
   "mimetype": "text/x-python",
   "name": "python",
   "nbconvert_exporter": "python",
   "pygments_lexer": "ipython2",
   "version": "2.7.6"
  }
 },
 "nbformat": 4,
 "nbformat_minor": 5
}
